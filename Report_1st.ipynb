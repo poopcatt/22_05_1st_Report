{
  "nbformat": 4,
  "nbformat_minor": 0,
  "metadata": {
    "colab": {
      "provenance": [],
      "authorship_tag": "ABX9TyMlk8t39/tK04vMldBH7JkN",
      "include_colab_link": true
    },
    "kernelspec": {
      "name": "python3",
      "display_name": "Python 3"
    },
    "language_info": {
      "name": "python"
    }
  },
  "cells": [
    {
      "cell_type": "markdown",
      "metadata": {
        "id": "view-in-github",
        "colab_type": "text"
      },
      "source": [
        "<a href=\"https://colab.research.google.com/github/poopcatt/22_05_1st_Report/blob/main/Report_1st.ipynb\" target=\"_parent\"><img src=\"https://colab.research.google.com/assets/colab-badge.svg\" alt=\"Open In Colab\"/></a>"
      ]
    },
    {
      "cell_type": "code",
      "execution_count": 1,
      "metadata": {
        "colab": {
          "base_uri": "https://localhost:8080/"
        },
        "id": "tpV56UtHaS-E",
        "outputId": "510ac554-22e9-4b26-f6ba-60ea4daf417b"
      },
      "outputs": [
        {
          "output_type": "stream",
          "name": "stdout",
          "text": [
            "환영합니다.\n",
            "파이썬의 세계에 오신 것을 환영합니다.\n",
            "파이썬은 강력합니다.\n"
          ]
        }
      ],
      "source": [
        "print(\"환영합니다.\")\n",
        "print(\"파이썬의 세계에 오신 것을 환영합니다.\")\n",
        "print(\"파이썬은 강력합니다.\")"
      ]
    },
    {
      "cell_type": "markdown",
      "source": [
        "반갑습니다, 파이썬!\n",
        "\n",
        "0.6\n",
        "\n",
        "Hello World !!!"
      ],
      "metadata": {
        "id": "S8tlz4PHa6ht"
      }
    },
    {
      "cell_type": "code",
      "source": [
        "print(7*24)"
      ],
      "metadata": {
        "colab": {
          "base_uri": "https://localhost:8080/"
        },
        "id": "DDcIvYsJbY-w",
        "outputId": "a799bd5b-bbdc-4025-a897-12429e6b5921"
      },
      "execution_count": 2,
      "outputs": [
        {
          "output_type": "stream",
          "name": "stdout",
          "text": [
            "168\n"
          ]
        }
      ]
    },
    {
      "cell_type": "code",
      "source": [
        "import turtle\n",
        "t = turtle.Turtle()\n",
        "t.shape(\"turtle\")\n",
        "t.fd(100)\n",
        "t.left(90)\n",
        "t.fd(100)\n",
        "t.right(90)\n",
        "t.fd(100)\n",
        "t.right(90)\n",
        "t.fd(100)\n",
        "t.left(90)\n",
        "t.fd(100)"
      ],
      "metadata": {
        "id": "M-X41MxKddep"
      },
      "execution_count": null,
      "outputs": []
    }
  ]
}